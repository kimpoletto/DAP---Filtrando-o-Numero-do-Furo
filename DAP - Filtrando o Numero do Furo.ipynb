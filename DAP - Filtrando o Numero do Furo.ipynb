{
 "cells": [
  {
   "cell_type": "markdown",
   "metadata": {},
   "source": [
    "# Buscando o numero do furo dentro da tabela e renomeando os arquivos\n"
   ]
  },
  {
   "cell_type": "code",
   "execution_count": null,
   "metadata": {},
   "outputs": [],
   "source": [
    "diretorio = r'C:\\Nova pasta\\Documents\\ToDAP\\LOTE_1_FEVEREIRO2022\\LUANGA\\Drilling\\Parcial\\2003\\LUAN - Copia'\n",
    "\n",
    "for roots, dirs, files in os.walk(diretorio):\n",
    "    \n",
    "    for file in files:\n",
    "        \n",
    "        \n",
    "         \n",
    "        \n",
    "        df = [pd.read_excel(f'{roots}\\\\{file}')]\n",
    "        \n",
    "        for a in df:\n",
    "            \n",
    "            \n",
    "        \n",
    "            id_amo = a.loc[[1], 'id_amo'].values\n",
    "            \n",
    "            id_amo = str(id_amo)\n",
    "        \n",
    "            fd = id_amo[id_amo.find('FD')+2:id_amo.rfind('-')]\n",
    "        \n",
    "            print(fd)\n",
    "            try:\n",
    "            \n",
    "                os.rename(f'{roots}\\\\{file}', f'{roots}\\\\luan_dh_assay_fd{fd}_ppt_2003.xls')\n",
    "       \n",
    "            except:\n",
    "                pass\n",
    "       \n"
   ]
  }
 ],
 "metadata": {
  "kernelspec": {
   "display_name": "Python 3",
   "language": "python",
   "name": "python3"
  },
  "language_info": {
   "codemirror_mode": {
    "name": "ipython",
    "version": 3
   },
   "file_extension": ".py",
   "mimetype": "text/x-python",
   "name": "python",
   "nbconvert_exporter": "python",
   "pygments_lexer": "ipython3",
   "version": "3.8.5"
  }
 },
 "nbformat": 4,
 "nbformat_minor": 4
}
